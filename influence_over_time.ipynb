{
 "cells": [
  {
   "cell_type": "code",
   "execution_count": 2,
   "metadata": {
    "collapsed": true
   },
   "outputs": [],
   "source": [
    "%matplotlib inline\n",
    "import glob\n",
    "import os\n",
    "import pandas as pd\n",
    "import json\n",
    "import numpy as np\n",
    "import scipy.stats as ss\n",
    "from statsmodels.tsa.stattools import grangercausalitytests, adfuller\n",
    "import matplotlib.pyplot as plt\n",
    "import warnings\n",
    "warnings.simplefilter('ignore')\n"
   ]
  },
  {
   "cell_type": "markdown",
   "metadata": {},
   "source": [
    "# Influence Graph "
   ]
  },
  {
   "cell_type": "markdown",
   "metadata": {},
   "source": [
    "Figure below represts the impact graph out-degree and in-degree probability distribution which we will use below for influence metric.\n",
    "\n",
    "![](image/impact_graph.png)"
   ]
  },
  {
   "cell_type": "markdown",
   "metadata": {},
   "source": [
    "# Processing CSV from influence graph"
   ]
  },
  {
   "cell_type": "code",
   "execution_count": 7,
   "metadata": {
    "collapsed": true
   },
   "outputs": [],
   "source": [
    "hour = 18\n",
    "all_files = glob.glob(os.path.join(os.getcwd() + \"/graphs/\", \"power*%sH.csv\" % hour))\n",
    "dfs = []\n",
    "for filename in all_files:\n",
    "        dfs.append(pd.read_csv(filename))"
   ]
  },
  {
   "cell_type": "code",
   "execution_count": 8,
   "metadata": {
    "collapsed": true
   },
   "outputs": [],
   "source": [
    "df = pd.DataFrame(columns=['in','out', 'influence'])\n",
    "for dt_frame in dfs:\n",
    "    df = df.merge(dt_frame.loc[:,['in','out','influence']], how = 'outer', on = ['in','out'])"
   ]
  },
  {
   "cell_type": "markdown",
   "metadata": {},
   "source": [
    "Find all columns with NAN"
   ]
  },
  {
   "cell_type": "code",
   "execution_count": 9,
   "metadata": {},
   "outputs": [
    {
     "data": {
      "text/plain": [
       "influence_x     True\n",
       "in             False\n",
       "out            False\n",
       "influence_y    False\n",
       "influence_x    False\n",
       "influence_y    False\n",
       "influence_x    False\n",
       "influence_y    False\n",
       "influence_x    False\n",
       "influence_y    False\n",
       "influence_x    False\n",
       "influence_y    False\n",
       "influence_x    False\n",
       "influence_y    False\n",
       "dtype: bool"
      ]
     },
     "execution_count": 9,
     "metadata": {},
     "output_type": "execute_result"
    }
   ],
   "source": [
    "df.isna().all()"
   ]
  },
  {
   "cell_type": "markdown",
   "metadata": {},
   "source": [
    "Remove the 0 columns where all values are NAN"
   ]
  },
  {
   "cell_type": "code",
   "execution_count": 10,
   "metadata": {
    "collapsed": true
   },
   "outputs": [],
   "source": [
    "df = df.iloc[:,1:]"
   ]
  },
  {
   "cell_type": "markdown",
   "metadata": {},
   "source": [
    "Change NaN values to 0"
   ]
  },
  {
   "cell_type": "code",
   "execution_count": 11,
   "metadata": {
    "collapsed": true
   },
   "outputs": [],
   "source": [
    "df = df.fillna(0)\n"
   ]
  },
  {
   "cell_type": "code",
   "execution_count": 12,
   "metadata": {},
   "outputs": [
    {
     "data": {
      "text/html": [
       "<div>\n",
       "<style scoped>\n",
       "    .dataframe tbody tr th:only-of-type {\n",
       "        vertical-align: middle;\n",
       "    }\n",
       "\n",
       "    .dataframe tbody tr th {\n",
       "        vertical-align: top;\n",
       "    }\n",
       "\n",
       "    .dataframe thead th {\n",
       "        text-align: right;\n",
       "    }\n",
       "</style>\n",
       "<table border=\"1\" class=\"dataframe\">\n",
       "  <thead>\n",
       "    <tr style=\"text-align: right;\">\n",
       "      <th></th>\n",
       "      <th>in</th>\n",
       "      <th>out</th>\n",
       "      <th>influence_y</th>\n",
       "      <th>influence_x</th>\n",
       "      <th>influence_y</th>\n",
       "      <th>influence_x</th>\n",
       "      <th>influence_y</th>\n",
       "      <th>influence_x</th>\n",
       "      <th>influence_y</th>\n",
       "      <th>influence_x</th>\n",
       "      <th>influence_y</th>\n",
       "      <th>influence_x</th>\n",
       "      <th>influence_y</th>\n",
       "    </tr>\n",
       "  </thead>\n",
       "  <tbody>\n",
       "    <tr>\n",
       "      <th>0</th>\n",
       "      <td>1236745500</td>\n",
       "      <td>5389246700</td>\n",
       "      <td>1.000000</td>\n",
       "      <td>0.0</td>\n",
       "      <td>0.0</td>\n",
       "      <td>0.0</td>\n",
       "      <td>0.0</td>\n",
       "      <td>0.0</td>\n",
       "      <td>0.0</td>\n",
       "      <td>0.0</td>\n",
       "      <td>0.0</td>\n",
       "      <td>0.0</td>\n",
       "      <td>0.0</td>\n",
       "    </tr>\n",
       "    <tr>\n",
       "      <th>1</th>\n",
       "      <td>4039511540</td>\n",
       "      <td>808884817</td>\n",
       "      <td>1.000000</td>\n",
       "      <td>0.0</td>\n",
       "      <td>0.0</td>\n",
       "      <td>0.0</td>\n",
       "      <td>0.0</td>\n",
       "      <td>0.0</td>\n",
       "      <td>0.0</td>\n",
       "      <td>0.0</td>\n",
       "      <td>0.0</td>\n",
       "      <td>0.0</td>\n",
       "      <td>0.0</td>\n",
       "    </tr>\n",
       "    <tr>\n",
       "      <th>2</th>\n",
       "      <td>111586252</td>\n",
       "      <td>3202476750</td>\n",
       "      <td>0.367200</td>\n",
       "      <td>0.0</td>\n",
       "      <td>0.0</td>\n",
       "      <td>0.0</td>\n",
       "      <td>0.0</td>\n",
       "      <td>0.0</td>\n",
       "      <td>0.0</td>\n",
       "      <td>0.0</td>\n",
       "      <td>0.0</td>\n",
       "      <td>0.0</td>\n",
       "      <td>0.0</td>\n",
       "    </tr>\n",
       "    <tr>\n",
       "      <th>3</th>\n",
       "      <td>111586252</td>\n",
       "      <td>298086258</td>\n",
       "      <td>0.245238</td>\n",
       "      <td>0.0</td>\n",
       "      <td>0.0</td>\n",
       "      <td>0.0</td>\n",
       "      <td>0.0</td>\n",
       "      <td>0.0</td>\n",
       "      <td>0.0</td>\n",
       "      <td>0.0</td>\n",
       "      <td>0.0</td>\n",
       "      <td>0.0</td>\n",
       "      <td>0.0</td>\n",
       "    </tr>\n",
       "    <tr>\n",
       "      <th>4</th>\n",
       "      <td>111586252</td>\n",
       "      <td>1393986237</td>\n",
       "      <td>1.000000</td>\n",
       "      <td>0.0</td>\n",
       "      <td>0.0</td>\n",
       "      <td>0.0</td>\n",
       "      <td>0.0</td>\n",
       "      <td>0.0</td>\n",
       "      <td>0.0</td>\n",
       "      <td>0.0</td>\n",
       "      <td>0.0</td>\n",
       "      <td>0.0</td>\n",
       "      <td>0.0</td>\n",
       "    </tr>\n",
       "  </tbody>\n",
       "</table>\n",
       "</div>"
      ],
      "text/plain": [
       "           in         out  influence_y  influence_x  influence_y  influence_x  \\\n",
       "0  1236745500  5389246700     1.000000          0.0          0.0          0.0   \n",
       "1  4039511540   808884817     1.000000          0.0          0.0          0.0   \n",
       "2   111586252  3202476750     0.367200          0.0          0.0          0.0   \n",
       "3   111586252   298086258     0.245238          0.0          0.0          0.0   \n",
       "4   111586252  1393986237     1.000000          0.0          0.0          0.0   \n",
       "\n",
       "   influence_y  influence_x  influence_y  influence_x  influence_y  \\\n",
       "0          0.0          0.0          0.0          0.0          0.0   \n",
       "1          0.0          0.0          0.0          0.0          0.0   \n",
       "2          0.0          0.0          0.0          0.0          0.0   \n",
       "3          0.0          0.0          0.0          0.0          0.0   \n",
       "4          0.0          0.0          0.0          0.0          0.0   \n",
       "\n",
       "   influence_x  influence_y  \n",
       "0          0.0          0.0  \n",
       "1          0.0          0.0  \n",
       "2          0.0          0.0  \n",
       "3          0.0          0.0  \n",
       "4          0.0          0.0  "
      ]
     },
     "execution_count": 12,
     "metadata": {},
     "output_type": "execute_result"
    }
   ],
   "source": [
    "df.head()"
   ]
  },
  {
   "cell_type": "markdown",
   "metadata": {},
   "source": [
    "Get the lines which have more than 5 non zero values."
   ]
  },
  {
   "cell_type": "code",
   "execution_count": 13,
   "metadata": {
    "collapsed": true
   },
   "outputs": [],
   "source": [
    "sample = df[(df.iloc[:,2:] > 0).sum(axis=1) >2]"
   ]
  },
  {
   "cell_type": "code",
   "execution_count": 14,
   "metadata": {},
   "outputs": [
    {
     "data": {
      "text/html": [
       "<div>\n",
       "<style scoped>\n",
       "    .dataframe tbody tr th:only-of-type {\n",
       "        vertical-align: middle;\n",
       "    }\n",
       "\n",
       "    .dataframe tbody tr th {\n",
       "        vertical-align: top;\n",
       "    }\n",
       "\n",
       "    .dataframe thead th {\n",
       "        text-align: right;\n",
       "    }\n",
       "</style>\n",
       "<table border=\"1\" class=\"dataframe\">\n",
       "  <thead>\n",
       "    <tr style=\"text-align: right;\">\n",
       "      <th></th>\n",
       "      <th>in</th>\n",
       "      <th>out</th>\n",
       "      <th>influence_y</th>\n",
       "      <th>influence_x</th>\n",
       "      <th>influence_y</th>\n",
       "      <th>influence_x</th>\n",
       "      <th>influence_y</th>\n",
       "      <th>influence_x</th>\n",
       "      <th>influence_y</th>\n",
       "      <th>influence_x</th>\n",
       "      <th>influence_y</th>\n",
       "      <th>influence_x</th>\n",
       "      <th>influence_y</th>\n",
       "    </tr>\n",
       "  </thead>\n",
       "  <tbody>\n",
       "    <tr>\n",
       "      <th>100</th>\n",
       "      <td>111586252</td>\n",
       "      <td>4039511540</td>\n",
       "      <td>0.0</td>\n",
       "      <td>0.0</td>\n",
       "      <td>0.0</td>\n",
       "      <td>0.0</td>\n",
       "      <td>0.319487</td>\n",
       "      <td>0.118272</td>\n",
       "      <td>0.190113</td>\n",
       "      <td>0.0</td>\n",
       "      <td>0.098551</td>\n",
       "      <td>0.080409</td>\n",
       "      <td>0.100484</td>\n",
       "    </tr>\n",
       "  </tbody>\n",
       "</table>\n",
       "</div>"
      ],
      "text/plain": [
       "            in         out  influence_y  influence_x  influence_y  \\\n",
       "100  111586252  4039511540          0.0          0.0          0.0   \n",
       "\n",
       "     influence_x  influence_y  influence_x  influence_y  influence_x  \\\n",
       "100          0.0     0.319487     0.118272     0.190113          0.0   \n",
       "\n",
       "     influence_y  influence_x  influence_y  \n",
       "100     0.098551     0.080409     0.100484  "
      ]
     },
     "execution_count": 14,
     "metadata": {},
     "output_type": "execute_result"
    }
   ],
   "source": [
    "sample"
   ]
  },
  {
   "cell_type": "markdown",
   "metadata": {},
   "source": [
    "# Augmented Dickey-Fuller test\n",
    "We interpret this result using the p-value from the test. A p-value below a threshold (such as 5% or 1%) suggests we reject the null hypothesis (stationary), otherwise a p-value above the threshold suggests we fail to reject the null hypothesis (non-stationary).\n",
    "\n",
    "p-value > 0.05: Fail to reject the null hypothesis (H0), the data has a unit root and is non-stationary.\n",
    "p-value <= 0.05: Reject the null hypothesis (H0), the data does not have a unit root and is stationary.\n",
    "\n",
    "The code below select the stationary ones"
   ]
  },
  {
   "cell_type": "code",
   "execution_count": 15,
   "metadata": {},
   "outputs": [
    {
     "data": {
      "text/html": [
       "<div>\n",
       "<style scoped>\n",
       "    .dataframe tbody tr th:only-of-type {\n",
       "        vertical-align: middle;\n",
       "    }\n",
       "\n",
       "    .dataframe tbody tr th {\n",
       "        vertical-align: top;\n",
       "    }\n",
       "\n",
       "    .dataframe thead th {\n",
       "        text-align: right;\n",
       "    }\n",
       "</style>\n",
       "<table border=\"1\" class=\"dataframe\">\n",
       "  <thead>\n",
       "    <tr style=\"text-align: right;\">\n",
       "      <th></th>\n",
       "      <th>in</th>\n",
       "      <th>out</th>\n",
       "      <th>influence_y</th>\n",
       "      <th>influence_x</th>\n",
       "      <th>influence_y</th>\n",
       "      <th>influence_x</th>\n",
       "      <th>influence_y</th>\n",
       "      <th>influence_x</th>\n",
       "      <th>influence_y</th>\n",
       "      <th>influence_x</th>\n",
       "      <th>influence_y</th>\n",
       "      <th>influence_x</th>\n",
       "      <th>influence_y</th>\n",
       "    </tr>\n",
       "  </thead>\n",
       "  <tbody>\n",
       "    <tr>\n",
       "      <th>100</th>\n",
       "      <td>111586252</td>\n",
       "      <td>4039511540</td>\n",
       "      <td>0.0</td>\n",
       "      <td>0.0</td>\n",
       "      <td>0.0</td>\n",
       "      <td>0.0</td>\n",
       "      <td>0.319487</td>\n",
       "      <td>0.118272</td>\n",
       "      <td>0.190113</td>\n",
       "      <td>0.0</td>\n",
       "      <td>0.098551</td>\n",
       "      <td>0.080409</td>\n",
       "      <td>0.100484</td>\n",
       "    </tr>\n",
       "  </tbody>\n",
       "</table>\n",
       "</div>"
      ],
      "text/plain": [
       "            in         out  influence_y  influence_x  influence_y  \\\n",
       "100  111586252  4039511540          0.0          0.0          0.0   \n",
       "\n",
       "     influence_x  influence_y  influence_x  influence_y  influence_x  \\\n",
       "100          0.0     0.319487     0.118272     0.190113          0.0   \n",
       "\n",
       "     influence_y  influence_x  influence_y  \n",
       "100     0.098551     0.080409     0.100484  "
      ]
     },
     "execution_count": 15,
     "metadata": {},
     "output_type": "execute_result"
    }
   ],
   "source": [
    "sample[sample.iloc[:,2:].apply(lambda x: adfuller(x.values)[1], axis=1) <= 0.05]"
   ]
  },
  {
   "cell_type": "markdown",
   "metadata": {},
   "source": [
    "# Granger Causality Test\n",
    "The Null hypothesis for grangercausalitytests is that the time series in the second column, x2, does NOT Granger cause the time series in the first column, x1. Grange causality means that past values of x2 have a statistically significant effect on the current value of x1, taking past values of x1 into account as regressors. We reject the null hypothesis that x2 does not Granger cause x1 if the pvalues are below a desired size of the test."
   ]
  },
  {
   "cell_type": "code",
   "execution_count": 16,
   "metadata": {
    "collapsed": true
   },
   "outputs": [],
   "source": [
    "\n",
    "def granger_total(df_g, t_slice, x, y, hour):\n",
    "    x_tmp = df_g[(df_g.poi_id==x) & (df_g.hour==hour)].groupby(pd.Grouper(freq='W'))['hour'].count()\n",
    "    y_tmp = df_g[(df_g.poi_id==y) & (df_g.hour==hour)].groupby(pd.Grouper(freq='W'))['hour'].count()\n",
    "    x1 = np.nan_to_num(ss.zscore(x_tmp[t_slice].fillna(0)))\n",
    "    y1 = np.nan_to_num(ss.zscore(y_tmp[t_slice].fillna(0)))\n",
    "    tuples = list(zip(x1,y1))\n",
    "    gc = grangercausalitytests(tuples, 2, addconst=True, verbose=False)\n",
    "    return gc[1][0]['params_ftest'][1]"
   ]
  },
  {
   "cell_type": "code",
   "execution_count": 17,
   "metadata": {
    "collapsed": true
   },
   "outputs": [],
   "source": [
    "df_g = pd.read_pickle('poi_tw.pkl')\n",
    "w = df_g.groupby(pd.Grouper(freq='W'))['hour'].count().index"
   ]
  },
  {
   "cell_type": "markdown",
   "metadata": {},
   "source": [
    "## Removing irrelevants\n",
    "Removing irrelevant POI using a Poisson distribution with mean two time the number os weeks. In a conservative way, we will consider POI that in average had at least two visitors per week."
   ]
  },
  {
   "cell_type": "code",
   "execution_count": 18,
   "metadata": {},
   "outputs": [
    {
     "data": {
      "text/plain": [
       "10.142857142857142"
      ]
     },
     "execution_count": 18,
     "metadata": {},
     "output_type": "execute_result"
    }
   ],
   "source": [
    "(df_g.index.max() - df_g.index.min()).days / 7"
   ]
  },
  {
   "cell_type": "code",
   "execution_count": 19,
   "metadata": {},
   "outputs": [
    {
     "data": {
      "text/plain": [
       "0.07861437209313321"
      ]
     },
     "execution_count": 19,
     "metadata": {},
     "output_type": "execute_result"
    }
   ],
   "source": [
    "pt = ss.poisson(11)\n",
    "pt.cdf(6)"
   ]
  },
  {
   "cell_type": "code",
   "execution_count": 20,
   "metadata": {},
   "outputs": [
    {
     "data": {
      "text/plain": [
       "0.037519814101927236"
      ]
     },
     "execution_count": 20,
     "metadata": {},
     "output_type": "execute_result"
    }
   ],
   "source": [
    "pt.cdf(5)"
   ]
  },
  {
   "cell_type": "raw",
   "metadata": {},
   "source": [
    "tmp = df_g.groupby([pd.Grouper(freq='W'),'poi_id'])\n",
    "print(df_g.shape)\n",
    "df_g = tmp.filter(lambda x: x['user'].nunique() > 5)\n",
    "print(df_g.shape)\n",
    "print(df_g.groupby(['poi_id']).user.count())"
   ]
  },
  {
   "cell_type": "markdown",
   "metadata": {},
   "source": [
    "## Processing granger for number of posts per POI"
   ]
  },
  {
   "cell_type": "code",
   "execution_count": 22,
   "metadata": {
    "collapsed": true
   },
   "outputs": [],
   "source": [
    "sample['p-value'] = sample.apply(lambda row: granger_total(df_g, w, row['in'], row['out'], hour), axis=1)\n",
    "\n"
   ]
  },
  {
   "cell_type": "code",
   "execution_count": 23,
   "metadata": {
    "scrolled": true
   },
   "outputs": [
    {
     "data": {
      "text/html": [
       "<div>\n",
       "<style scoped>\n",
       "    .dataframe tbody tr th:only-of-type {\n",
       "        vertical-align: middle;\n",
       "    }\n",
       "\n",
       "    .dataframe tbody tr th {\n",
       "        vertical-align: top;\n",
       "    }\n",
       "\n",
       "    .dataframe thead th {\n",
       "        text-align: right;\n",
       "    }\n",
       "</style>\n",
       "<table border=\"1\" class=\"dataframe\">\n",
       "  <thead>\n",
       "    <tr style=\"text-align: right;\">\n",
       "      <th></th>\n",
       "      <th>in</th>\n",
       "      <th>out</th>\n",
       "      <th>p-value</th>\n",
       "    </tr>\n",
       "  </thead>\n",
       "  <tbody>\n",
       "  </tbody>\n",
       "</table>\n",
       "</div>"
      ],
      "text/plain": [
       "Empty DataFrame\n",
       "Columns: [in, out, p-value]\n",
       "Index: []"
      ]
     },
     "execution_count": 23,
     "metadata": {},
     "output_type": "execute_result"
    }
   ],
   "source": [
    "sample.loc[sample['p-value'] <= 0.05, ['in','out','p-value']]\n"
   ]
  },
  {
   "cell_type": "markdown",
   "metadata": {},
   "source": [
    "## Processing granger for number of unique users per POI"
   ]
  },
  {
   "cell_type": "code",
   "execution_count": 24,
   "metadata": {
    "collapsed": true
   },
   "outputs": [],
   "source": [
    "\n",
    "def granger_unique(df_g, t_slice, x, y, hour):\n",
    "    x_tmp = df_g[(df_g.poi_id==x) & (df_g.hour==hour)].groupby(pd.Grouper(freq='W')).user.nunique()\n",
    "    y_tmp = df_g[(df_g.poi_id==y) & (df_g.hour==hour)].groupby(pd.Grouper(freq='W')).user.nunique()\n",
    "    x1 = np.nan_to_num(ss.zscore(x_tmp[t_slice].fillna(0)))\n",
    "    y1 = np.nan_to_num(ss.zscore(y_tmp[t_slice].fillna(0)))\n",
    "    tuples = list(zip(x1,y1))\n",
    "    gc = grangercausalitytests(tuples, 2, addconst=True, verbose=False)\n",
    "    return gc[1][0]['params_ftest'][1]"
   ]
  },
  {
   "cell_type": "code",
   "execution_count": 25,
   "metadata": {
    "collapsed": true
   },
   "outputs": [],
   "source": [
    "sample['p-value'] = sample.apply(lambda row: granger_unique(df_g, w, row['in'], row['out'], hour), axis=1)"
   ]
  },
  {
   "cell_type": "code",
   "execution_count": 26,
   "metadata": {},
   "outputs": [
    {
     "data": {
      "text/html": [
       "<div>\n",
       "<style scoped>\n",
       "    .dataframe tbody tr th:only-of-type {\n",
       "        vertical-align: middle;\n",
       "    }\n",
       "\n",
       "    .dataframe tbody tr th {\n",
       "        vertical-align: top;\n",
       "    }\n",
       "\n",
       "    .dataframe thead th {\n",
       "        text-align: right;\n",
       "    }\n",
       "</style>\n",
       "<table border=\"1\" class=\"dataframe\">\n",
       "  <thead>\n",
       "    <tr style=\"text-align: right;\">\n",
       "      <th></th>\n",
       "      <th>in</th>\n",
       "      <th>out</th>\n",
       "      <th>p-value</th>\n",
       "    </tr>\n",
       "  </thead>\n",
       "  <tbody>\n",
       "  </tbody>\n",
       "</table>\n",
       "</div>"
      ],
      "text/plain": [
       "Empty DataFrame\n",
       "Columns: [in, out, p-value]\n",
       "Index: []"
      ]
     },
     "execution_count": 26,
     "metadata": {},
     "output_type": "execute_result"
    }
   ],
   "source": [
    "sample.loc[sample['p-value'] <= 0.05, ['in','out','p-value']]"
   ]
  }
 ],
 "metadata": {
  "kernelspec": {
   "display_name": "Python 3",
   "language": "python",
   "name": "python3"
  },
  "language_info": {
   "codemirror_mode": {
    "name": "ipython",
    "version": 3
   },
   "file_extension": ".py",
   "mimetype": "text/x-python",
   "name": "python",
   "nbconvert_exporter": "python",
   "pygments_lexer": "ipython3",
   "version": "3.5.1"
  }
 },
 "nbformat": 4,
 "nbformat_minor": 2
}
