{
 "cells": [
  {
   "cell_type": "code",
   "execution_count": 32,
   "metadata": {},
   "outputs": [],
   "source": [
    "%matplotlib inline\n",
    "import glob\n",
    "import os\n",
    "import pandas as pd\n",
    "import json\n",
    "import numpy as np\n",
    "import scipy.stats as ss\n",
    "import matplotlib.pyplot as plt\n",
    "from sklearn.metrics.pairwise import cosine_similarity\n",
    "import warnings\n",
    "import seaborn as sns\n",
    "warnings.simplefilter('ignore')"
   ]
  },
  {
   "cell_type": "code",
   "execution_count": 35,
   "metadata": {
    "collapsed": true
   },
   "outputs": [],
   "source": [
    "hour = 12\n",
    "all_files = glob.glob(os.path.join(os.getcwd() + \"/graphs/\", \"power*%sH.csv\" % hour))\n",
    "dfs = []\n",
    "for filename in all_files:\n",
    "        dfs.append(pd.read_csv(filename))"
   ]
  },
  {
   "cell_type": "code",
   "execution_count": 37,
   "metadata": {
    "collapsed": true
   },
   "outputs": [],
   "source": [
    "#for i, tmp in enumerate(dfs):\n",
    "    #dfs[i].influence = tmp.influence.apply(lambda x: json.loads(x.replace(\"'\",'\"'))[\"weight\"])    \n"
   ]
  },
  {
   "cell_type": "code",
   "execution_count": 42,
   "metadata": {
    "collapsed": true
   },
   "outputs": [],
   "source": [
    "df = pd.DataFrame(columns=['in','out', 'influence'])\n",
    "for dt_frame in dfs:\n",
    "    df = df.merge(dt_frame.loc[:,['in','out','influence']], how = 'outer', on = ['in','out'])"
   ]
  },
  {
   "cell_type": "markdown",
   "metadata": {},
   "source": [
    "Find all columns with NAN"
   ]
  },
  {
   "cell_type": "code",
   "execution_count": 43,
   "metadata": {},
   "outputs": [
    {
     "data": {
      "text/plain": [
       "influence_x     True\n",
       "in             False\n",
       "out            False\n",
       "influence_y    False\n",
       "influence_x    False\n",
       "influence_y    False\n",
       "influence_x    False\n",
       "influence_y    False\n",
       "influence_x    False\n",
       "influence_y    False\n",
       "influence_x    False\n",
       "influence_y    False\n",
       "influence_x    False\n",
       "influence_y    False\n",
       "dtype: bool"
      ]
     },
     "execution_count": 43,
     "metadata": {},
     "output_type": "execute_result"
    }
   ],
   "source": [
    "df.isna().all()"
   ]
  },
  {
   "cell_type": "markdown",
   "metadata": {},
   "source": [
    "Remove the 0 columns where all values are NAN"
   ]
  },
  {
   "cell_type": "code",
   "execution_count": 44,
   "metadata": {
    "collapsed": true
   },
   "outputs": [],
   "source": [
    "df = df.iloc[:,1:]"
   ]
  },
  {
   "cell_type": "markdown",
   "metadata": {},
   "source": [
    "Change NaN values to 0"
   ]
  },
  {
   "cell_type": "code",
   "execution_count": 45,
   "metadata": {
    "collapsed": true
   },
   "outputs": [],
   "source": [
    "df = df.fillna(0)\n"
   ]
  },
  {
   "cell_type": "markdown",
   "metadata": {},
   "source": [
    "Remove transitions which have at least 2 non-zero weeks."
   ]
  },
  {
   "cell_type": "code",
   "execution_count": 60,
   "metadata": {
    "collapsed": true
   },
   "outputs": [],
   "source": [
    "sample = df[(df.iloc[:,2:] > 0).sum(axis=1) >3]"
   ]
  },
  {
   "cell_type": "markdown",
   "metadata": {},
   "source": [
    "# Outliers identification\n",
    "Identify outliers in the time series using MAD.\n",
    "The median absolute deviation from median, commonly shortened to the median absolute deviation (MAD). It is the median of the set comprising the absolute values of the differences between the median and each data point."
   ]
  },
  {
   "cell_type": "code",
   "execution_count": 61,
   "metadata": {},
   "outputs": [
    {
     "data": {
      "text/html": [
       "<div>\n",
       "<style scoped>\n",
       "    .dataframe tbody tr th:only-of-type {\n",
       "        vertical-align: middle;\n",
       "    }\n",
       "\n",
       "    .dataframe tbody tr th {\n",
       "        vertical-align: top;\n",
       "    }\n",
       "\n",
       "    .dataframe thead th {\n",
       "        text-align: right;\n",
       "    }\n",
       "</style>\n",
       "<table border=\"1\" class=\"dataframe\">\n",
       "  <thead>\n",
       "    <tr style=\"text-align: right;\">\n",
       "      <th></th>\n",
       "      <th>influence_y</th>\n",
       "      <th>influence_x</th>\n",
       "      <th>influence_y</th>\n",
       "      <th>influence_x</th>\n",
       "      <th>influence_y</th>\n",
       "      <th>influence_x</th>\n",
       "      <th>influence_y</th>\n",
       "      <th>influence_x</th>\n",
       "      <th>influence_y</th>\n",
       "      <th>influence_x</th>\n",
       "      <th>influence_y</th>\n",
       "    </tr>\n",
       "  </thead>\n",
       "  <tbody>\n",
       "    <tr>\n",
       "      <th>0</th>\n",
       "      <td>False</td>\n",
       "      <td>False</td>\n",
       "      <td>False</td>\n",
       "      <td>False</td>\n",
       "      <td>False</td>\n",
       "      <td>False</td>\n",
       "      <td>False</td>\n",
       "      <td>False</td>\n",
       "      <td>False</td>\n",
       "      <td>False</td>\n",
       "      <td>False</td>\n",
       "    </tr>\n",
       "    <tr>\n",
       "      <th>6</th>\n",
       "      <td>False</td>\n",
       "      <td>False</td>\n",
       "      <td>True</td>\n",
       "      <td>False</td>\n",
       "      <td>False</td>\n",
       "      <td>False</td>\n",
       "      <td>False</td>\n",
       "      <td>False</td>\n",
       "      <td>False</td>\n",
       "      <td>False</td>\n",
       "      <td>False</td>\n",
       "    </tr>\n",
       "    <tr>\n",
       "      <th>7</th>\n",
       "      <td>False</td>\n",
       "      <td>False</td>\n",
       "      <td>False</td>\n",
       "      <td>False</td>\n",
       "      <td>False</td>\n",
       "      <td>False</td>\n",
       "      <td>False</td>\n",
       "      <td>False</td>\n",
       "      <td>False</td>\n",
       "      <td>False</td>\n",
       "      <td>False</td>\n",
       "    </tr>\n",
       "  </tbody>\n",
       "</table>\n",
       "</div>"
      ],
      "text/plain": [
       "   influence_y  influence_x  influence_y  influence_x  influence_y  \\\n",
       "0        False        False        False        False        False   \n",
       "6        False        False         True        False        False   \n",
       "7        False        False        False        False        False   \n",
       "\n",
       "   influence_x  influence_y  influence_x  influence_y  influence_x  \\\n",
       "0        False        False        False        False        False   \n",
       "6        False        False        False        False        False   \n",
       "7        False        False        False        False        False   \n",
       "\n",
       "   influence_y  \n",
       "0        False  \n",
       "6        False  \n",
       "7        False  "
      ]
     },
     "execution_count": 61,
     "metadata": {},
     "output_type": "execute_result"
    }
   ],
   "source": [
    "\n",
    "sample.iloc[:,2:].apply(lambda x: (abs(x - x.median()) > x.mad() * (3 / ss.norm.ppf(3/4.))), axis=1).head()"
   ]
  },
  {
   "cell_type": "code",
   "execution_count": 62,
   "metadata": {
    "collapsed": true
   },
   "outputs": [],
   "source": [
    "outliers = sample.iloc[:,2:].apply(lambda x: (abs(x - x.median()) > x.mad() * (3 / ss.norm.ppf(3/4.))), axis=1)"
   ]
  },
  {
   "cell_type": "code",
   "execution_count": 63,
   "metadata": {},
   "outputs": [
    {
     "data": {
      "text/html": [
       "<div>\n",
       "<style scoped>\n",
       "    .dataframe tbody tr th:only-of-type {\n",
       "        vertical-align: middle;\n",
       "    }\n",
       "\n",
       "    .dataframe tbody tr th {\n",
       "        vertical-align: top;\n",
       "    }\n",
       "\n",
       "    .dataframe thead th {\n",
       "        text-align: right;\n",
       "    }\n",
       "</style>\n",
       "<table border=\"1\" class=\"dataframe\">\n",
       "  <thead>\n",
       "    <tr style=\"text-align: right;\">\n",
       "      <th></th>\n",
       "      <th>influence_y</th>\n",
       "      <th>influence_x</th>\n",
       "      <th>influence_y</th>\n",
       "      <th>influence_x</th>\n",
       "      <th>influence_y</th>\n",
       "      <th>influence_x</th>\n",
       "      <th>influence_y</th>\n",
       "      <th>influence_x</th>\n",
       "      <th>influence_y</th>\n",
       "      <th>influence_x</th>\n",
       "      <th>influence_y</th>\n",
       "    </tr>\n",
       "  </thead>\n",
       "  <tbody>\n",
       "    <tr>\n",
       "      <th>6</th>\n",
       "      <td>False</td>\n",
       "      <td>False</td>\n",
       "      <td>True</td>\n",
       "      <td>False</td>\n",
       "      <td>False</td>\n",
       "      <td>False</td>\n",
       "      <td>False</td>\n",
       "      <td>False</td>\n",
       "      <td>False</td>\n",
       "      <td>False</td>\n",
       "      <td>False</td>\n",
       "    </tr>\n",
       "  </tbody>\n",
       "</table>\n",
       "</div>"
      ],
      "text/plain": [
       "   influence_y  influence_x  influence_y  influence_x  influence_y  \\\n",
       "6        False        False         True        False        False   \n",
       "\n",
       "   influence_x  influence_y  influence_x  influence_y  influence_x  \\\n",
       "6        False        False        False        False        False   \n",
       "\n",
       "   influence_y  \n",
       "6        False  "
      ]
     },
     "execution_count": 63,
     "metadata": {},
     "output_type": "execute_result"
    }
   ],
   "source": [
    "outliers = outliers[outliers.sum(axis=1)>0]\n",
    "\n",
    "outliers.head()"
   ]
  },
  {
   "cell_type": "code",
   "execution_count": 64,
   "metadata": {},
   "outputs": [
    {
     "data": {
      "text/html": [
       "<div>\n",
       "<style scoped>\n",
       "    .dataframe tbody tr th:only-of-type {\n",
       "        vertical-align: middle;\n",
       "    }\n",
       "\n",
       "    .dataframe tbody tr th {\n",
       "        vertical-align: top;\n",
       "    }\n",
       "\n",
       "    .dataframe thead th {\n",
       "        text-align: right;\n",
       "    }\n",
       "</style>\n",
       "<table border=\"1\" class=\"dataframe\">\n",
       "  <thead>\n",
       "    <tr style=\"text-align: right;\">\n",
       "      <th></th>\n",
       "      <th>in</th>\n",
       "      <th>out</th>\n",
       "      <th>influence_y</th>\n",
       "      <th>influence_x</th>\n",
       "      <th>influence_y</th>\n",
       "      <th>influence_x</th>\n",
       "      <th>influence_y</th>\n",
       "      <th>influence_x</th>\n",
       "      <th>influence_y</th>\n",
       "      <th>influence_x</th>\n",
       "      <th>influence_y</th>\n",
       "      <th>influence_x</th>\n",
       "      <th>influence_y</th>\n",
       "    </tr>\n",
       "  </thead>\n",
       "  <tbody>\n",
       "    <tr>\n",
       "      <th>6</th>\n",
       "      <td>111586252</td>\n",
       "      <td>4039511540</td>\n",
       "      <td>0.200249</td>\n",
       "      <td>0.0</td>\n",
       "      <td>0.484259</td>\n",
       "      <td>0.0</td>\n",
       "      <td>0.089048</td>\n",
       "      <td>0.111265</td>\n",
       "      <td>0.0</td>\n",
       "      <td>0.0</td>\n",
       "      <td>0.0</td>\n",
       "      <td>0.0</td>\n",
       "      <td>0.0</td>\n",
       "    </tr>\n",
       "  </tbody>\n",
       "</table>\n",
       "</div>"
      ],
      "text/plain": [
       "          in         out  influence_y  influence_x  influence_y  influence_x  \\\n",
       "6  111586252  4039511540     0.200249          0.0     0.484259          0.0   \n",
       "\n",
       "   influence_y  influence_x  influence_y  influence_x  influence_y  \\\n",
       "6     0.089048     0.111265          0.0          0.0          0.0   \n",
       "\n",
       "   influence_x  influence_y  \n",
       "6          0.0          0.0  "
      ]
     },
     "execution_count": 64,
     "metadata": {},
     "output_type": "execute_result"
    }
   ],
   "source": [
    "df.loc[outliers.index]"
   ]
  },
  {
   "cell_type": "markdown",
   "metadata": {},
   "source": [
    "# Similar outlier behavior\n",
    "Cossine simlarity among edges which have outliers in coincident weeks.\n",
    "Probably it will help me to find conterfactual behavior. \n",
    "Also, it will help me to find places affected by events."
   ]
  },
  {
   "cell_type": "code",
   "execution_count": 65,
   "metadata": {},
   "outputs": [
    {
     "data": {
      "text/plain": [
       "array([[1.]])"
      ]
     },
     "execution_count": 65,
     "metadata": {},
     "output_type": "execute_result"
    }
   ],
   "source": [
    "#similarity = cosine_similarity(df.iloc[outliers.index,2:])\n",
    "similarity = cosine_similarity(outliers)\n",
    "similarity"
   ]
  },
  {
   "cell_type": "code",
   "execution_count": 52,
   "metadata": {},
   "outputs": [
    {
     "data": {
      "text/plain": [
       "<matplotlib.axes._subplots.AxesSubplot at 0x1169e1518>"
      ]
     },
     "execution_count": 52,
     "metadata": {},
     "output_type": "execute_result"
    },
    {
     "data": {
      "image/png": "[encoded data removed]",
      "text/plain": [
       "<Figure size 432x288 with 2 Axes>"
      ]
     },
     "metadata": {},
     "output_type": "display_data"
    }
   ],
   "source": [
    "# Generate a mask for the upper triangle\n",
    "mask = np.zeros_like(similarity, dtype=np.bool)\n",
    "mask[np.triu_indices_from(mask)] = True\n",
    "\n",
    "# Set up the matplotlib figure\n",
    "f, ax = plt.subplots()\n",
    "\n",
    "# Generate a custom diverging colormap\n",
    "cmap = sns.diverging_palette(220, 10, as_cmap=True)\n",
    "\n",
    "# Draw the heatmap with the mask and correct aspect ratio\n",
    "sns.heatmap(similarity, mask=mask, cmap=cmap, vmax=1, center=0,\n",
    "            square=True, linewidths=.5, cbar_kws={\"shrink\": .5})"
   ]
  }
 ],
 "metadata": {
  "kernelspec": {
   "display_name": "Python 3",
   "language": "python",
   "name": "python3"
  },
  "language_info": {
   "codemirror_mode": {
    "name": "ipython",
    "version": 3
   },
   "file_extension": ".py",
   "mimetype": "text/x-python",
   "name": "python",
   "nbconvert_exporter": "python",
   "pygments_lexer": "ipython3",
   "version": "3.5.1"
  }
 },
 "nbformat": 4,
 "nbformat_minor": 2
}
